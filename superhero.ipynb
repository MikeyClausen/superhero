{
 "cells": [
  {
   "cell_type": "code",
   "execution_count": 1,
   "id": "ae206eab",
   "metadata": {},
   "outputs": [],
   "source": [
    "#Imports\n",
    "import os\n",
    "os.environ[\"OMP_NUM_THREADS\"] = '1'\n",
    "import pandas as pd\n",
    "import numpy as np\n",
    "import seaborn as sns\n",
    "import matplotlib.pyplot as plt\n",
    "from sklearn.preprocessing import OneHotEncoder\n",
    "import seaborn as sns\n",
    "import matplotlib.pyplot as plt"
   ]
  },
  {
   "cell_type": "markdown",
   "id": "4a3d3235",
   "metadata": {},
   "source": [
    "# Import data."
   ]
  },
  {
   "cell_type": "code",
   "execution_count": 2,
   "id": "d4025172",
   "metadata": {},
   "outputs": [
    {
     "data": {
      "text/plain": [
       "['superhero_info - superhero_info.csv',\n",
       " 'superhero_powers - superhero_powers.csv']"
      ]
     },
     "execution_count": 2,
     "metadata": {},
     "output_type": "execute_result"
    }
   ],
   "source": [
    "FOLDER = \"Data/\"\n",
    "os.makedirs(FOLDER, exist_ok=True)\n",
    "os.listdir(FOLDER)"
   ]
  },
  {
   "cell_type": "code",
   "execution_count": 3,
   "id": "bc1b0acc",
   "metadata": {},
   "outputs": [],
   "source": [
    "csv=('C:/Users/Mikey/Documents/GitHub/dojo-env-setup/superhero/superhero/Data/superhero_info - superhero_info.csv',\n",
    "    'C:/Users/Mikey/Documents/GitHub/dojo-env-setup/superhero/superhero/Data/superhero_powers - superhero_powers.csv')"
   ]
  },
  {
   "cell_type": "code",
   "execution_count": 4,
   "id": "1f691350",
   "metadata": {},
   "outputs": [],
   "source": [
    "# Define ea data frame\n",
    "df_info=pd.read_csv(os.path.join(FOLDER, csv[0]))\n",
    "df_powers=pd.read_csv(os.path.join(FOLDER, csv[1]))"
   ]
  },
  {
   "cell_type": "markdown",
   "id": "9cdafd97",
   "metadata": {},
   "source": [
    "## Checking column info."
   ]
  },
  {
   "cell_type": "code",
   "execution_count": 5,
   "id": "5e4b8e04",
   "metadata": {},
   "outputs": [
    {
     "name": "stdout",
     "output_type": "stream",
     "text": [
      " info columns :Index(['Hero|Publisher', 'Gender', 'Race', 'Alignment', 'Hair color',\n",
      "       'Eye color', 'Skin color', 'Measurements'],\n",
      "      dtype='object')\n"
     ]
    }
   ],
   "source": [
    "print(f' info columns :{df_info.columns}')"
   ]
  },
  {
   "cell_type": "code",
   "execution_count": 6,
   "id": "14b13f9a",
   "metadata": {},
   "outputs": [
    {
     "name": "stdout",
     "output_type": "stream",
     "text": [
      " power columns :Index(['hero_names', 'Powers'], dtype='object')\n"
     ]
    }
   ],
   "source": [
    "print(f' power columns :{df_powers.columns}')"
   ]
  },
  {
   "cell_type": "code",
   "execution_count": 7,
   "id": "630f9bb3",
   "metadata": {},
   "outputs": [
    {
     "data": {
      "text/plain": [
       "array(['A-Bomb|Marvel Comics', 'Abe Sapien|Dark Horse Comics',\n",
       "       'Abin Sur|DC Comics', 'Abomination|Marvel Comics',\n",
       "       'Absorbing Man|Marvel Comics', 'Adam Strange|DC Comics',\n",
       "       'Agent Bob|Marvel Comics', 'Agent Zero|Marvel Comics',\n",
       "       'Air-Walker|Marvel Comics', 'Ajax|Marvel Comics',\n",
       "       'Alan Scott|DC Comics', 'Alien|Dark Horse Comics',\n",
       "       'Amazo|DC Comics', 'Ammo|Marvel Comics', 'Angel|Marvel Comics',\n",
       "       'Angel Dust|Marvel Comics', 'Angel Salvadore|Marvel Comics',\n",
       "       'Animal Man|DC Comics', 'Annihilus|Marvel Comics',\n",
       "       'Ant-Man|Marvel Comics', 'Ant-Man II|Marvel Comics',\n",
       "       'Anti-Venom|Marvel Comics', 'Apocalypse|Marvel Comics',\n",
       "       'Aqualad|DC Comics', 'Aquaman|DC Comics', 'Arachne|Marvel Comics',\n",
       "       'Archangel|Marvel Comics', 'Arclight|Marvel Comics',\n",
       "       'Ardina|Marvel Comics', 'Ares|Marvel Comics',\n",
       "       'Ariel|Marvel Comics', 'Armor|Marvel Comics',\n",
       "       'Atlas|Marvel Comics', 'Atlas|DC Comics', 'Atom|DC Comics',\n",
       "       'Atom Girl|DC Comics', 'Atom II|DC Comics', 'Aurora|Marvel Comics',\n",
       "       'Azazel|Marvel Comics', 'Bane|DC Comics', 'Banshee|Marvel Comics',\n",
       "       'Bantam|Marvel Comics', 'Batgirl|DC Comics',\n",
       "       'Batgirl IV|DC Comics', 'Batgirl VI|DC Comics', 'Batman|DC Comics',\n",
       "       'Batman II|DC Comics', 'Battlestar|Marvel Comics',\n",
       "       'Beak|Marvel Comics', 'Beast|Marvel Comics', 'Beast Boy|DC Comics',\n",
       "       'Beta Ray Bill|Marvel Comics', 'Big Barda|DC Comics',\n",
       "       'Big Man|Marvel Comics', 'Binary|Marvel Comics',\n",
       "       'Bishop|Marvel Comics', 'Bizarro|DC Comics',\n",
       "       'Black Adam|DC Comics', 'Black Bolt|Marvel Comics',\n",
       "       'Black Canary|DC Comics', 'Black Cat|Marvel Comics',\n",
       "       'Black Knight III|Marvel Comics', 'Black Lightning|DC Comics',\n",
       "       'Black Mamba|Marvel Comics', 'Black Manta|DC Comics',\n",
       "       'Black Panther|Marvel Comics', 'Black Widow|Marvel Comics',\n",
       "       'Blackout|Marvel Comics', 'Blackwing|Marvel Comics',\n",
       "       'Blackwulf|Marvel Comics', 'Blade|Marvel Comics',\n",
       "       'Bling!|Marvel Comics', 'Blink|Marvel Comics',\n",
       "       'Blizzard II|Marvel Comics', 'Blob|Marvel Comics',\n",
       "       'Bloodaxe|Marvel Comics', 'Blue Beetle II|DC Comics',\n",
       "       'Boom-Boom|Marvel Comics', 'Booster Gold|DC Comics',\n",
       "       'Brainiac|DC Comics', 'Brainiac 5|DC Comics',\n",
       "       'Brother Voodoo|Marvel Comics', 'Buffy|Dark Horse Comics',\n",
       "       'Bullseye|Marvel Comics', 'Bumblebee|DC Comics',\n",
       "       'Cable|Marvel Comics', 'Callisto|Marvel Comics',\n",
       "       'Cannonball|Marvel Comics', 'Captain America|Marvel Comics',\n",
       "       'Captain Atom|DC Comics', 'Captain Britain|Marvel Comics',\n",
       "       'Captain Marvel|Marvel Comics', 'Captain Marvel|DC Comics',\n",
       "       'Captain Marvel II|DC Comics', 'Carnage|Marvel Comics',\n",
       "       'Cat|Marvel Comics', 'Catwoman|DC Comics', 'Century|Marvel Comics',\n",
       "       'Chamber|Marvel Comics', 'Changeling|Marvel Comics',\n",
       "       'Cheetah|DC Comics', 'Cheetah II|DC Comics',\n",
       "       'Cheetah III|DC Comics', 'Chromos|Team Epic TV',\n",
       "       'Citizen Steel|DC Comics', 'Cloak|Marvel Comics',\n",
       "       'Colossus|Marvel Comics', 'Copycat|Marvel Comics',\n",
       "       'Cottonmouth|Marvel Comics', 'Crimson Dynamo|Marvel Comics',\n",
       "       'Crystal|Marvel Comics', 'Cyborg|DC Comics',\n",
       "       'Cyclops|Marvel Comics', 'Dagger|Marvel Comics',\n",
       "       'Daredevil|Marvel Comics', 'Darkhawk|Marvel Comics',\n",
       "       'Darkseid|DC Comics', 'Darkstar|Marvel Comics',\n",
       "       'Darth Vader|George Lucas', 'Dash|Dark Horse Comics',\n",
       "       'Dazzler|Marvel Comics', 'Deadman|DC Comics',\n",
       "       'Deadpool|Marvel Comics', 'Deadshot|DC Comics',\n",
       "       'Deathlok|Marvel Comics', 'Deathstroke|DC Comics',\n",
       "       'Demogoblin|Marvel Comics', 'Destroyer|Marvel Comics',\n",
       "       'Diamondback|Marvel Comics', 'Doc Samson|Marvel Comics',\n",
       "       'Doctor Doom|Marvel Comics', 'Doctor Doom II|Marvel Comics',\n",
       "       'Doctor Fate|DC Comics', 'Doctor Octopus|Marvel Comics',\n",
       "       'Doctor Strange|Marvel Comics', 'Domino|Marvel Comics',\n",
       "       'Donna Troy|DC Comics', 'Doomsday|DC Comics',\n",
       "       'Doppelganger|Marvel Comics', 'Drax the Destroyer|Marvel Comics',\n",
       "       'Elastigirl|Dark Horse Comics', 'Electro|Marvel Comics',\n",
       "       'Elektra|Marvel Comics', 'Elongated Man|DC Comics',\n",
       "       'Emma Frost|Marvel Comics', 'Enchantress|DC Comics',\n",
       "       'Etrigan|DC Comics', 'Evil Deadpool|Marvel Comics',\n",
       "       'Evilhawk|Marvel Comics', 'Exodus|Marvel Comics',\n",
       "       'Fabian Cortez|Marvel Comics', 'Falcon|Marvel Comics',\n",
       "       'Feral|Marvel Comics', 'Fin Fang Foom|Marvel Comics',\n",
       "       'Firebird|Marvel Comics', 'Firelord|Marvel Comics',\n",
       "       'Firestar|Marvel Comics', 'Firestorm|DC Comics', 'Flash|DC Comics',\n",
       "       'Flash II|DC Comics', 'Flash III|DC Comics', 'Flash IV|DC Comics',\n",
       "       'Forge|Marvel Comics', 'Franklin Richards|Marvel Comics',\n",
       "       'Frenzy|Marvel Comics', 'Frigga|Marvel Comics',\n",
       "       'Galactus|Marvel Comics', 'Gambit|Marvel Comics',\n",
       "       'Gamora|Marvel Comics', 'Genesis|Marvel Comics',\n",
       "       'Ghost Rider|Marvel Comics', 'Giganta|DC Comics',\n",
       "       'Gladiator|Marvel Comics', 'Goblin Queen|Marvel Comics',\n",
       "       'Goku|Shueisha', 'Goliath IV|Marvel Comics',\n",
       "       'Gorilla Grodd|DC Comics', 'Granny Goodness|DC Comics',\n",
       "       'Gravity|Marvel Comics', 'Green Arrow|DC Comics',\n",
       "       'Green Goblin|Marvel Comics', 'Green Goblin II|Marvel Comics',\n",
       "       'Green Goblin III|Marvel Comics', 'Green Goblin IV|Marvel Comics',\n",
       "       'Groot|Marvel Comics', 'Guy Gardner|DC Comics',\n",
       "       'Hal Jordan|DC Comics', 'Han Solo|George Lucas',\n",
       "       'Harley Quinn|DC Comics', 'Havok|Marvel Comics', 'Hawk|DC Comics',\n",
       "       'Hawkeye|Marvel Comics', 'Hawkeye II|Marvel Comics',\n",
       "       'Hawkgirl|DC Comics', 'Hawkman|DC Comics', 'Heat Wave|DC Comics',\n",
       "       'Hela|Marvel Comics', 'Hellboy|Dark Horse Comics',\n",
       "       'Hellcat|Marvel Comics', 'Hellstorm|Marvel Comics',\n",
       "       'Hercules|Marvel Comics', 'Hobgoblin|Marvel Comics',\n",
       "       'Hope Summers|Marvel Comics', 'Hulk|Marvel Comics',\n",
       "       'Human Torch|Marvel Comics', 'Huntress|DC Comics',\n",
       "       'Husk|Marvel Comics', 'Hybrid|Marvel Comics',\n",
       "       'Hydro-Man|Marvel Comics', 'Hyperion|Marvel Comics',\n",
       "       'Iceman|Marvel Comics', 'Impulse|DC Comics',\n",
       "       'Indiana Jones|George Lucas', 'Ink|Marvel Comics',\n",
       "       'Invisible Woman|Marvel Comics', 'Iron Fist|Marvel Comics',\n",
       "       'Iron Man|Marvel Comics', 'Jack of Hearts|Marvel Comics',\n",
       "       'Jack-Jack|Dark Horse Comics', 'James T. Kirk|Star Trek',\n",
       "       'Jean Grey|Marvel Comics', 'Jennifer Kale|Marvel Comics',\n",
       "       'Jessica Jones|Marvel Comics', 'John Stewart|DC Comics',\n",
       "       'John Wraith|Marvel Comics', 'Joker|DC Comics',\n",
       "       'Jolt|Marvel Comics', 'Jubilee|Marvel Comics',\n",
       "       'Juggernaut|Marvel Comics', 'Justice|Marvel Comics',\n",
       "       'Kang|Marvel Comics', 'Karate Kid|DC Comics',\n",
       "       'Killer Croc|DC Comics', 'Kilowog|DC Comics', 'Klaw|Marvel Comics',\n",
       "       'Kraven II|Marvel Comics', 'Kraven the Hunter|Marvel Comics',\n",
       "       'Krypto|DC Comics', 'Kyle Rayner|DC Comics',\n",
       "       'Lady Deathstrike|Marvel Comics', 'Leader|Marvel Comics',\n",
       "       'Legion|Marvel Comics', 'Lex Luthor|DC Comics',\n",
       "       'Light Lass|DC Comics', 'Lightning Lad|DC Comics',\n",
       "       'Lightning Lord|DC Comics', 'Living Brain|Marvel Comics',\n",
       "       'Lizard|Marvel Comics', 'Lobo|DC Comics', 'Loki|Marvel Comics',\n",
       "       'Longshot|Marvel Comics', 'Luke Cage|Marvel Comics',\n",
       "       'Luke Skywalker|George Lucas', 'Mach-IV|Marvel Comics',\n",
       "       'Machine Man|Marvel Comics', 'Magneto|Marvel Comics',\n",
       "       'Man-Thing|Marvel Comics', 'Man-Wolf|Marvel Comics',\n",
       "       'Mandarin|Marvel Comics', 'Mantis|Marvel Comics',\n",
       "       'Martian Manhunter|DC Comics', 'Marvel Girl|Marvel Comics',\n",
       "       'Master Brood|Team Epic TV', 'Maverick|Marvel Comics',\n",
       "       'Maxima|DC Comics', 'Medusa|Marvel Comics',\n",
       "       'Meltdown|Marvel Comics', 'Mephisto|Marvel Comics',\n",
       "       'Mera|DC Comics', 'Metallo|DC Comics', 'Metamorpho|DC Comics',\n",
       "       'Metron|DC Comics', 'Micro Lad|DC Comics', 'Mimic|Marvel Comics',\n",
       "       'Miss Martian|DC Comics', 'Mister Fantastic|Marvel Comics',\n",
       "       'Mister Freeze|DC Comics', 'Mister Sinister|Marvel Comics',\n",
       "       'Mockingbird|Marvel Comics', 'MODOK|Marvel Comics',\n",
       "       'Molten Man|Marvel Comics', 'Monarch|DC Comics',\n",
       "       'Moon Knight|Marvel Comics', 'Moonstone|Marvel Comics',\n",
       "       'Morlun|Marvel Comics', 'Moses Magnum|Marvel Comics',\n",
       "       'Mr Immortal|Marvel Comics', 'Mr Incredible|Dark Horse Comics',\n",
       "       'Ms Marvel II|Marvel Comics', 'Multiple Man|Marvel Comics',\n",
       "       'Mysterio|Marvel Comics', 'Mystique|Marvel Comics',\n",
       "       'Namor|Marvel Comics', 'Namora|Marvel Comics',\n",
       "       'Namorita|Marvel Comics', 'Naruto Uzumaki|Shueisha',\n",
       "       'Nebula|Marvel Comics', 'Nick Fury|Marvel Comics',\n",
       "       'Nightcrawler|Marvel Comics', 'Nightwing|DC Comics',\n",
       "       'Northstar|Marvel Comics', 'Nova|Marvel Comics',\n",
       "       'Odin|Marvel Comics', 'Omniscient|Team Epic TV',\n",
       "       'One Punch Man|Shueisha', 'Onslaught|Marvel Comics',\n",
       "       'Oracle|DC Comics', 'Penance II|Marvel Comics',\n",
       "       'Penguin|DC Comics', 'Phantom Girl|DC Comics',\n",
       "       'Phoenix|Marvel Comics', 'Plantman|Marvel Comics',\n",
       "       'Plastic Man|DC Comics', 'Plastique|DC Comics',\n",
       "       'Poison Ivy|DC Comics', 'Polaris|Marvel Comics',\n",
       "       'Power Girl|DC Comics', 'Predator|Dark Horse Comics',\n",
       "       'Professor X|Marvel Comics', 'Professor Zoom|DC Comics',\n",
       "       'Psylocke|Marvel Comics', 'Punisher|Marvel Comics',\n",
       "       'Purple Man|Marvel Comics', 'Pyro|Marvel Comics',\n",
       "       'Question|DC Comics', 'Quicksilver|Marvel Comics',\n",
       "       'Quill|Marvel Comics', \"Ra's Al Ghul|DC Comics\", 'Rambo|Unknown',\n",
       "       'Raven|DC Comics', 'Ray|DC Comics', 'Razor-Fist II|Marvel Comics',\n",
       "       'Red Arrow|DC Comics', 'Red Hood|DC Comics',\n",
       "       'Red Hulk|Marvel Comics', 'Red Robin|DC Comics',\n",
       "       'Red Skull|Marvel Comics', 'Red Tornado|DC Comics',\n",
       "       'Rhino|Marvel Comics', 'Rick Flag|DC Comics',\n",
       "       'Ripcord|Marvel Comics', 'Robin|DC Comics', 'Robin II|DC Comics',\n",
       "       'Robin III|DC Comics', 'Robin V|DC Comics',\n",
       "       'Rocket Raccoon|Marvel Comics', 'Rogue|Marvel Comics',\n",
       "       'Rorschach|DC Comics', 'Sabretooth|Marvel Comics',\n",
       "       'Sage|Marvel Comics', 'Sandman|Marvel Comics',\n",
       "       'Sasquatch|Marvel Comics', 'Scarecrow|DC Comics',\n",
       "       'Scarlet Spider|Marvel Comics', 'Scarlet Spider II|Marvel Comics',\n",
       "       'Scarlet Witch|Marvel Comics', 'Scorpion|Marvel Comics',\n",
       "       'Sentry|Marvel Comics', 'Shadow King|Marvel Comics',\n",
       "       'Shadow Lass|DC Comics', 'Shadowcat|Marvel Comics',\n",
       "       'Shang-Chi|Marvel Comics', 'Shatterstar|Marvel Comics',\n",
       "       'She-Hulk|Marvel Comics', 'She-Thing|Marvel Comics',\n",
       "       'Shocker|Marvel Comics', 'Shriek|Marvel Comics',\n",
       "       'Sif|Marvel Comics', 'Silver Surfer|Marvel Comics',\n",
       "       'Silverclaw|Marvel Comics', 'Sinestro|DC Comics',\n",
       "       'Siren|DC Comics', 'Siryn|Marvel Comics', 'Skaar|Marvel Comics',\n",
       "       'Snowbird|Marvel Comics', 'Solomon Grundy|DC Comics',\n",
       "       'Songbird|Marvel Comics', 'Space Ghost|DC Comics',\n",
       "       'Spawn|Image Comics', 'Spider-Girl|Marvel Comics',\n",
       "       'Spider-Gwen|Marvel Comics', 'Spider-Man|Marvel Comics',\n",
       "       'Spider-Woman|Marvel Comics', 'Spider-Woman III|Marvel Comics',\n",
       "       'Spider-Woman IV|Marvel Comics', 'Spock|Star Trek',\n",
       "       'Spyke|Marvel Comics', 'Star-Lord|Marvel Comics',\n",
       "       'Starfire|DC Comics', 'Stargirl|DC Comics', 'Static|DC Comics',\n",
       "       'Steel|DC Comics', 'Steppenwolf|DC Comics', 'Storm|Marvel Comics',\n",
       "       'Sunspot|Marvel Comics', 'Superboy|DC Comics',\n",
       "       'Superboy-Prime|DC Comics', 'Supergirl|DC Comics',\n",
       "       'Superman|DC Comics', 'Swarm|Marvel Comics', 'Synch|Marvel Comics',\n",
       "       'T-1000|Dark Horse Comics', 'Taskmaster|Marvel Comics',\n",
       "       'Tempest|Marvel Comics', 'Thanos|Marvel Comics',\n",
       "       'The Comedian|DC Comics', 'Thing|Marvel Comics',\n",
       "       'Thor|Marvel Comics', 'Thor Girl|Marvel Comics',\n",
       "       'Thunderbird|Marvel Comics', 'Thunderbird III|Marvel Comics',\n",
       "       'Thunderstrike|Marvel Comics', 'Thundra|Marvel Comics',\n",
       "       'Tiger Shark|Marvel Comics', 'Tigra|Marvel Comics',\n",
       "       'Tinkerer|Marvel Comics', 'Toad|Marvel Comics',\n",
       "       'Toxin|Marvel Comics', 'Trickster|DC Comics',\n",
       "       'Triplicate Girl|DC Comics', 'Triton|Marvel Comics',\n",
       "       'Ultragirl|Marvel Comics', 'Ultron|Marvel Comics',\n",
       "       'Utgard-Loki|Marvel Comics', 'Valerie Hart|Team Epic TV',\n",
       "       'Valkyrie|Marvel Comics', 'Vanisher|Marvel Comics',\n",
       "       'Vegeta|Shueisha', 'Venom|Marvel Comics', 'Venom II|Marvel Comics',\n",
       "       'Venom III|Marvel Comics', 'Vertigo II|Marvel Comics',\n",
       "       'Vibe|DC Comics', 'Vindicator|Marvel Comics',\n",
       "       'Violet Parr|Dark Horse Comics', 'Vision|Marvel Comics',\n",
       "       'Vixen|DC Comics', 'Vulture|Marvel Comics', 'Walrus|Marvel Comics',\n",
       "       'War Machine|Marvel Comics', 'Warlock|Marvel Comics',\n",
       "       'Warp|DC Comics', 'Warpath|Marvel Comics', 'Wasp|Marvel Comics',\n",
       "       'Winter Soldier|Marvel Comics', 'Wolfsbane|Marvel Comics',\n",
       "       'Wolverine|Marvel Comics', 'Wonder Girl|DC Comics',\n",
       "       'Wonder Man|Marvel Comics', 'Wonder Woman|DC Comics',\n",
       "       'X-23|Marvel Comics', 'X-Man|Marvel Comics',\n",
       "       'Yellowjacket|Marvel Comics', 'Yellowjacket II|Marvel Comics',\n",
       "       'Yoda|George Lucas', 'Zatanna|DC Comics', 'Zoom|DC Comics'],\n",
       "      dtype=object)"
      ]
     },
     "execution_count": 7,
     "metadata": {},
     "output_type": "execute_result"
    }
   ],
   "source": [
    "df_info['Hero|Publisher'].unique()"
   ]
  },
  {
   "cell_type": "code",
   "execution_count": 8,
   "id": "f1b7110e",
   "metadata": {},
   "outputs": [],
   "source": [
    "# Removing ' ' etc.\n",
    "df_info.columns=df_info.columns.str.strip()\n",
    "df_powers.columns=df_powers.columns.str.strip()"
   ]
  },
  {
   "cell_type": "code",
   "execution_count": 9,
   "id": "55cab35f",
   "metadata": {},
   "outputs": [
    {
     "data": {
      "text/plain": [
       "Hero|Publisher    0\n",
       "Gender            0\n",
       "Race              0\n",
       "Alignment         0\n",
       "Hair color        0\n",
       "Eye color         0\n",
       "Skin color        0\n",
       "Measurements      0\n",
       "dtype: int64"
      ]
     },
     "execution_count": 9,
     "metadata": {},
     "output_type": "execute_result"
    }
   ],
   "source": [
    "df_info.isna().sum()"
   ]
  },
  {
   "cell_type": "code",
   "execution_count": 10,
   "id": "5349b609",
   "metadata": {},
   "outputs": [
    {
     "data": {
      "text/plain": [
       "hero_names    0\n",
       "Powers        0\n",
       "dtype: int64"
      ]
     },
     "execution_count": 10,
     "metadata": {},
     "output_type": "execute_result"
    }
   ],
   "source": [
    "df_powers.isna().sum()"
   ]
  },
  {
   "cell_type": "code",
   "execution_count": 11,
   "id": "5b42769e",
   "metadata": {},
   "outputs": [],
   "source": [
    "# Extract the numeric values from the \"Measurements\" column using regular expressions\n",
    "pattern = r\"(\\d+\\.\\d+)\"\n",
    "df_info['Height'] = df_info['Measurements'].str.extract(pattern, expand=False).astype(float)\n",
    "# Remove the \"kg\" and convert the \"Weight\" column to numeric\n",
    "df_info['Weight'] = df_info['Measurements'].str.replace('kg', '').str.extract(pattern,\n",
    "                                                            expand=False).astype(float)"
   ]
  },
  {
   "cell_type": "code",
   "execution_count": 12,
   "id": "0e4503cf",
   "metadata": {},
   "outputs": [
    {
     "data": {
      "text/html": [
       "<div>\n",
       "<style scoped>\n",
       "    .dataframe tbody tr th:only-of-type {\n",
       "        vertical-align: middle;\n",
       "    }\n",
       "\n",
       "    .dataframe tbody tr th {\n",
       "        vertical-align: top;\n",
       "    }\n",
       "\n",
       "    .dataframe thead th {\n",
       "        text-align: right;\n",
       "    }\n",
       "</style>\n",
       "<table border=\"1\" class=\"dataframe\">\n",
       "  <thead>\n",
       "    <tr style=\"text-align: right;\">\n",
       "      <th></th>\n",
       "      <th>Hero|Publisher</th>\n",
       "      <th>Gender</th>\n",
       "      <th>Race</th>\n",
       "      <th>Alignment</th>\n",
       "      <th>Hair color</th>\n",
       "      <th>Eye color</th>\n",
       "      <th>Skin color</th>\n",
       "      <th>Measurements</th>\n",
       "      <th>Height</th>\n",
       "      <th>Weight</th>\n",
       "      <th>hero_names</th>\n",
       "      <th>Publisher</th>\n",
       "    </tr>\n",
       "  </thead>\n",
       "  <tbody>\n",
       "    <tr>\n",
       "      <th>0</th>\n",
       "      <td>A-Bomb|Marvel Comics</td>\n",
       "      <td>Male</td>\n",
       "      <td>Human</td>\n",
       "      <td>good</td>\n",
       "      <td>No Hair</td>\n",
       "      <td>yellow</td>\n",
       "      <td>Unknown</td>\n",
       "      <td>{'Height': '203.0 cm', 'Weight': '441.0 kg'}</td>\n",
       "      <td>203.0</td>\n",
       "      <td>203.0</td>\n",
       "      <td>A-Bomb</td>\n",
       "      <td>Marvel Comics</td>\n",
       "    </tr>\n",
       "    <tr>\n",
       "      <th>1</th>\n",
       "      <td>Abe Sapien|Dark Horse Comics</td>\n",
       "      <td>Male</td>\n",
       "      <td>Icthyo Sapien</td>\n",
       "      <td>good</td>\n",
       "      <td>No Hair</td>\n",
       "      <td>blue</td>\n",
       "      <td>blue</td>\n",
       "      <td>{'Height': '191.0 cm', 'Weight': '65.0 kg'}</td>\n",
       "      <td>191.0</td>\n",
       "      <td>191.0</td>\n",
       "      <td>Abe Sapien</td>\n",
       "      <td>Dark Horse Comics</td>\n",
       "    </tr>\n",
       "  </tbody>\n",
       "</table>\n",
       "</div>"
      ],
      "text/plain": [
       "                 Hero|Publisher Gender           Race Alignment Hair color  \\\n",
       "0          A-Bomb|Marvel Comics   Male          Human      good    No Hair   \n",
       "1  Abe Sapien|Dark Horse Comics   Male  Icthyo Sapien      good    No Hair   \n",
       "\n",
       "  Eye color Skin color                                  Measurements  Height  \\\n",
       "0    yellow    Unknown  {'Height': '203.0 cm', 'Weight': '441.0 kg'}   203.0   \n",
       "1      blue       blue   {'Height': '191.0 cm', 'Weight': '65.0 kg'}   191.0   \n",
       "\n",
       "   Weight  hero_names          Publisher  \n",
       "0   203.0      A-Bomb      Marvel Comics  \n",
       "1   191.0  Abe Sapien  Dark Horse Comics  "
      ]
     },
     "execution_count": 12,
     "metadata": {},
     "output_type": "execute_result"
    }
   ],
   "source": [
    "# Split Hero|Publisher\n",
    "df_info[['hero_names','Publisher']]=df_info['Hero|Publisher'].str.split('|',expand=True)\n",
    "df_info.head(2)"
   ]
  },
  {
   "cell_type": "code",
   "execution_count": 13,
   "id": "2955dd8a",
   "metadata": {},
   "outputs": [
    {
     "data": {
      "text/html": [
       "<div>\n",
       "<style scoped>\n",
       "    .dataframe tbody tr th:only-of-type {\n",
       "        vertical-align: middle;\n",
       "    }\n",
       "\n",
       "    .dataframe tbody tr th {\n",
       "        vertical-align: top;\n",
       "    }\n",
       "\n",
       "    .dataframe thead th {\n",
       "        text-align: right;\n",
       "    }\n",
       "</style>\n",
       "<table border=\"1\" class=\"dataframe\">\n",
       "  <thead>\n",
       "    <tr style=\"text-align: right;\">\n",
       "      <th></th>\n",
       "      <th>Gender</th>\n",
       "      <th>Race</th>\n",
       "      <th>Alignment</th>\n",
       "      <th>Hair color</th>\n",
       "      <th>Eye color</th>\n",
       "      <th>Skin color</th>\n",
       "      <th>Measurements</th>\n",
       "      <th>Height</th>\n",
       "      <th>Weight</th>\n",
       "      <th>hero_names</th>\n",
       "      <th>Publisher</th>\n",
       "    </tr>\n",
       "  </thead>\n",
       "  <tbody>\n",
       "    <tr>\n",
       "      <th>0</th>\n",
       "      <td>Male</td>\n",
       "      <td>Human</td>\n",
       "      <td>good</td>\n",
       "      <td>No Hair</td>\n",
       "      <td>yellow</td>\n",
       "      <td>Unknown</td>\n",
       "      <td>{'Height': '203.0 cm', 'Weight': '441.0 kg'}</td>\n",
       "      <td>203.0</td>\n",
       "      <td>203.0</td>\n",
       "      <td>A-Bomb</td>\n",
       "      <td>Marvel Comics</td>\n",
       "    </tr>\n",
       "    <tr>\n",
       "      <th>1</th>\n",
       "      <td>Male</td>\n",
       "      <td>Icthyo Sapien</td>\n",
       "      <td>good</td>\n",
       "      <td>No Hair</td>\n",
       "      <td>blue</td>\n",
       "      <td>blue</td>\n",
       "      <td>{'Height': '191.0 cm', 'Weight': '65.0 kg'}</td>\n",
       "      <td>191.0</td>\n",
       "      <td>191.0</td>\n",
       "      <td>Abe Sapien</td>\n",
       "      <td>Dark Horse Comics</td>\n",
       "    </tr>\n",
       "  </tbody>\n",
       "</table>\n",
       "</div>"
      ],
      "text/plain": [
       "  Gender           Race Alignment Hair color Eye color Skin color  \\\n",
       "0   Male          Human      good    No Hair    yellow    Unknown   \n",
       "1   Male  Icthyo Sapien      good    No Hair      blue       blue   \n",
       "\n",
       "                                   Measurements  Height  Weight  hero_names  \\\n",
       "0  {'Height': '203.0 cm', 'Weight': '441.0 kg'}   203.0   203.0      A-Bomb   \n",
       "1   {'Height': '191.0 cm', 'Weight': '65.0 kg'}   191.0   191.0  Abe Sapien   \n",
       "\n",
       "           Publisher  \n",
       "0      Marvel Comics  \n",
       "1  Dark Horse Comics  "
      ]
     },
     "execution_count": 13,
     "metadata": {},
     "output_type": "execute_result"
    }
   ],
   "source": [
    "# Drop Hero|Publisher\n",
    "df_info=df_info.drop(columns=['Hero|Publisher'])\n",
    "df_info.head(2)"
   ]
  },
  {
   "cell_type": "code",
   "execution_count": 14,
   "id": "fda4d485",
   "metadata": {},
   "outputs": [
    {
     "data": {
      "text/html": [
       "<div>\n",
       "<style scoped>\n",
       "    .dataframe tbody tr th:only-of-type {\n",
       "        vertical-align: middle;\n",
       "    }\n",
       "\n",
       "    .dataframe tbody tr th {\n",
       "        vertical-align: top;\n",
       "    }\n",
       "\n",
       "    .dataframe thead th {\n",
       "        text-align: right;\n",
       "    }\n",
       "</style>\n",
       "<table border=\"1\" class=\"dataframe\">\n",
       "  <thead>\n",
       "    <tr style=\"text-align: right;\">\n",
       "      <th></th>\n",
       "      <th>hero_names</th>\n",
       "      <th>Powers</th>\n",
       "      <th>powers_split</th>\n",
       "    </tr>\n",
       "  </thead>\n",
       "  <tbody>\n",
       "    <tr>\n",
       "      <th>0</th>\n",
       "      <td>3-D Man</td>\n",
       "      <td>Agility,Super Strength,Stamina,Super Speed</td>\n",
       "      <td>Agility</td>\n",
       "    </tr>\n",
       "    <tr>\n",
       "      <th>0</th>\n",
       "      <td>3-D Man</td>\n",
       "      <td>Agility,Super Strength,Stamina,Super Speed</td>\n",
       "      <td>Super Strength</td>\n",
       "    </tr>\n",
       "    <tr>\n",
       "      <th>0</th>\n",
       "      <td>3-D Man</td>\n",
       "      <td>Agility,Super Strength,Stamina,Super Speed</td>\n",
       "      <td>Stamina</td>\n",
       "    </tr>\n",
       "    <tr>\n",
       "      <th>0</th>\n",
       "      <td>3-D Man</td>\n",
       "      <td>Agility,Super Strength,Stamina,Super Speed</td>\n",
       "      <td>Super Speed</td>\n",
       "    </tr>\n",
       "    <tr>\n",
       "      <th>1</th>\n",
       "      <td>A-Bomb</td>\n",
       "      <td>Accelerated Healing,Durability,Longevity,Super...</td>\n",
       "      <td>Accelerated Healing</td>\n",
       "    </tr>\n",
       "    <tr>\n",
       "      <th>...</th>\n",
       "      <td>...</td>\n",
       "      <td>...</td>\n",
       "      <td>...</td>\n",
       "    </tr>\n",
       "    <tr>\n",
       "      <th>665</th>\n",
       "      <td>Zatanna</td>\n",
       "      <td>Cryokinesis,Telepathy,Magic,Fire Control,Proba...</td>\n",
       "      <td>Weather Control</td>\n",
       "    </tr>\n",
       "    <tr>\n",
       "      <th>666</th>\n",
       "      <td>Zoom</td>\n",
       "      <td>Super Speed,Intangibility,Time Travel,Time Man...</td>\n",
       "      <td>Super Speed</td>\n",
       "    </tr>\n",
       "    <tr>\n",
       "      <th>666</th>\n",
       "      <td>Zoom</td>\n",
       "      <td>Super Speed,Intangibility,Time Travel,Time Man...</td>\n",
       "      <td>Intangibility</td>\n",
       "    </tr>\n",
       "    <tr>\n",
       "      <th>666</th>\n",
       "      <td>Zoom</td>\n",
       "      <td>Super Speed,Intangibility,Time Travel,Time Man...</td>\n",
       "      <td>Time Travel</td>\n",
       "    </tr>\n",
       "    <tr>\n",
       "      <th>666</th>\n",
       "      <td>Zoom</td>\n",
       "      <td>Super Speed,Intangibility,Time Travel,Time Man...</td>\n",
       "      <td>Time Manipulation</td>\n",
       "    </tr>\n",
       "  </tbody>\n",
       "</table>\n",
       "<p>5874 rows × 3 columns</p>\n",
       "</div>"
      ],
      "text/plain": [
       "    hero_names                                             Powers  \\\n",
       "0      3-D Man         Agility,Super Strength,Stamina,Super Speed   \n",
       "0      3-D Man         Agility,Super Strength,Stamina,Super Speed   \n",
       "0      3-D Man         Agility,Super Strength,Stamina,Super Speed   \n",
       "0      3-D Man         Agility,Super Strength,Stamina,Super Speed   \n",
       "1       A-Bomb  Accelerated Healing,Durability,Longevity,Super...   \n",
       "..         ...                                                ...   \n",
       "665    Zatanna  Cryokinesis,Telepathy,Magic,Fire Control,Proba...   \n",
       "666       Zoom  Super Speed,Intangibility,Time Travel,Time Man...   \n",
       "666       Zoom  Super Speed,Intangibility,Time Travel,Time Man...   \n",
       "666       Zoom  Super Speed,Intangibility,Time Travel,Time Man...   \n",
       "666       Zoom  Super Speed,Intangibility,Time Travel,Time Man...   \n",
       "\n",
       "            powers_split  \n",
       "0                Agility  \n",
       "0         Super Strength  \n",
       "0                Stamina  \n",
       "0            Super Speed  \n",
       "1    Accelerated Healing  \n",
       "..                   ...  \n",
       "665      Weather Control  \n",
       "666          Super Speed  \n",
       "666        Intangibility  \n",
       "666          Time Travel  \n",
       "666    Time Manipulation  \n",
       "\n",
       "[5874 rows x 3 columns]"
      ]
     },
     "execution_count": 14,
     "metadata": {},
     "output_type": "execute_result"
    }
   ],
   "source": [
    "#Split powers into columns.\n",
    "df_powers['powers_split']=df_powers['Powers'].str.split(',')\n",
    "#Define explode funciton\n",
    "exploded=df_powers.explode('powers_split')\n",
    "exploded[['hero_names','Powers','powers_split']]"
   ]
  },
  {
   "cell_type": "code",
   "execution_count": 15,
   "id": "6b3df2f2",
   "metadata": {},
   "outputs": [
    {
     "data": {
      "text/plain": [
       "array(['Agility', 'Super Strength', 'Stamina', 'Super Speed',\n",
       "       'Accelerated Healing', 'Durability', 'Longevity', 'Camouflage',\n",
       "       'Self-Sustenance', 'Cold Resistance', 'Underwater breathing',\n",
       "       'Marksmanship', 'Weapons Master', 'Intelligence', 'Telepathy',\n",
       "       'Immortality', 'Reflexes', 'Enhanced Sight', 'Sub-Mariner',\n",
       "       'Lantern Power Ring', 'Invulnerability', 'Animation',\n",
       "       'Super Breath', 'Dimensional Awareness', 'Flight', 'Size Changing',\n",
       "       'Teleportation', 'Magic', 'Dimensional Travel',\n",
       "       'Molecular Manipulation', 'Energy Manipulation', 'Power Cosmic',\n",
       "       'Energy Absorption', 'Elemental Transmogrification',\n",
       "       'Fire Resistance', 'Natural Armor', 'Heat Resistance',\n",
       "       'Matter Absorption', 'Regeneration', 'Stealth', 'Power Suit',\n",
       "       'Energy Blasts', 'Energy Beams', 'Heat Generation', 'Danger Sense',\n",
       "       'Phasing', 'Force Fields', 'Hypnokinesis', 'Invisibility',\n",
       "       'Enhanced Senses', 'Jump', 'Shapeshifting', 'Elasticity',\n",
       "       'Substance Secretion', 'Enhanced Hearing', 'Adaptation', 'Gliding',\n",
       "       'Natural Weapons', 'Wallcrawling', 'Vision - Thermal',\n",
       "       'Power Augmentation', 'Cryokinesis', 'Duplication',\n",
       "       'Weapon-based Powers', 'Fire Control', 'Enhanced Memory',\n",
       "       'Energy Constructs', 'Power Absorption', 'Time Travel',\n",
       "       'Enhanced Smell', 'Water Control', 'Vision - Telescopic',\n",
       "       'Magnetism', 'Vision - Microscopic', 'Vision - Night',\n",
       "       'Vision - Heat', 'Vision - X-Ray', 'Psionic Powers',\n",
       "       'Toxin and Disease Resistance', 'Animal Attributes',\n",
       "       'Animal Oriented Powers', 'Toxin and Disease Control', 'Empathy',\n",
       "       'Animal Control', 'Darkforce Manipulation', 'Time Manipulation',\n",
       "       'Reality Warping', 'Web Creation', 'Symbiote Costume',\n",
       "       'Telekinesis', 'Levitation', 'Biokinesis', 'Sonar',\n",
       "       'Enhanced Touch', 'Seismic Power', 'Energy Armor',\n",
       "       'Omnilingualism', 'Radiation Immunity', 'Density Control',\n",
       "       'Light Control', 'Illumination', 'Molecular Combustion',\n",
       "       'Astral Travel', 'Precognition', 'Intangibility', 'Illusions',\n",
       "       'Audio Control', 'Sonic Scream', 'Peak Human Condition',\n",
       "       'Vision - Infrared', 'Dexterity', 'Omnitrix', 'Omnipotent',\n",
       "       'Possession', 'Energy Resistance', 'Vision - Cryo', 'Mind Control',\n",
       "       'Mind Blast', 'Clairvoyance', 'Probability Manipulation',\n",
       "       'Death Touch', 'Electrokinesis', 'Gravity Control',\n",
       "       'Technopath/Cyberpath', 'Radar Sense', 'Astral Projection',\n",
       "       'Cloaking', 'Telepathy Resistance', 'Mind Control Resistance',\n",
       "       'Hyperkinesis', 'Spatial Awareness', 'Radiation Control',\n",
       "       'Radiation Absorption', 'Magic Resistance', 'Element Control',\n",
       "       'Plant Control', 'Terrakinesis', 'Power Sense', 'Wind Control',\n",
       "       'Qwardian Power Ring', 'Echolocation', 'Resurrection', 'The Force',\n",
       "       'Summoning', 'Banish', 'Molecular Dissipation',\n",
       "       'Electrical Transport', 'Speed Force', 'Grim Reaping',\n",
       "       'Portal Creation', 'Vitakinesis', 'Projection', 'Insanity',\n",
       "       'Photographic Reflexes', 'Anti-Gravity', 'Thirstokinesis',\n",
       "       'Power Nullifier', 'Weather Control', 'Omnipresent', 'Omniscient',\n",
       "       'Hair Manipulation', 'Nova Force', 'Odin Force', 'Phoenix Force',\n",
       "       'Intuitive aptitude', 'Melting', 'Changing Armor'], dtype=object)"
      ]
     },
     "execution_count": 15,
     "metadata": {},
     "output_type": "execute_result"
    }
   ],
   "source": [
    "#Explode powers_split\n",
    "cols_to_make=exploded['powers_split'].dropna().unique()\n",
    "cols_to_make"
   ]
  },
  {
   "cell_type": "code",
   "execution_count": 16,
   "id": "72979534",
   "metadata": {},
   "outputs": [],
   "source": [
    "#Ignore performance warning.\n",
    "import warnings\n",
    "warnings.filterwarnings(\"ignore\")\n",
    "#loop to create columns and provide true or false if that hero has said power.\n",
    "for col in cols_to_make:\n",
    "    df_powers[col]=df_powers['Powers'].str.contains(col)\n",
    "df_powers.head()\n",
    "\n",
    "#Resetting warnings.\n",
    "warnings.filterwarnings(\"default\")"
   ]
  },
  {
   "cell_type": "code",
   "execution_count": 17,
   "id": "4d137d77",
   "metadata": {
    "scrolled": true
   },
   "outputs": [
    {
     "data": {
      "text/html": [
       "<div>\n",
       "<style scoped>\n",
       "    .dataframe tbody tr th:only-of-type {\n",
       "        vertical-align: middle;\n",
       "    }\n",
       "\n",
       "    .dataframe tbody tr th {\n",
       "        vertical-align: top;\n",
       "    }\n",
       "\n",
       "    .dataframe thead th {\n",
       "        text-align: right;\n",
       "    }\n",
       "</style>\n",
       "<table border=\"1\" class=\"dataframe\">\n",
       "  <thead>\n",
       "    <tr style=\"text-align: right;\">\n",
       "      <th></th>\n",
       "      <th>hero_names</th>\n",
       "      <th>Agility</th>\n",
       "      <th>Super Strength</th>\n",
       "      <th>Stamina</th>\n",
       "      <th>Super Speed</th>\n",
       "      <th>Accelerated Healing</th>\n",
       "      <th>Durability</th>\n",
       "      <th>Longevity</th>\n",
       "      <th>Camouflage</th>\n",
       "      <th>Self-Sustenance</th>\n",
       "      <th>...</th>\n",
       "      <th>Weather Control</th>\n",
       "      <th>Omnipresent</th>\n",
       "      <th>Omniscient</th>\n",
       "      <th>Hair Manipulation</th>\n",
       "      <th>Nova Force</th>\n",
       "      <th>Odin Force</th>\n",
       "      <th>Phoenix Force</th>\n",
       "      <th>Intuitive aptitude</th>\n",
       "      <th>Melting</th>\n",
       "      <th>Changing Armor</th>\n",
       "    </tr>\n",
       "  </thead>\n",
       "  <tbody>\n",
       "    <tr>\n",
       "      <th>0</th>\n",
       "      <td>3-D Man</td>\n",
       "      <td>True</td>\n",
       "      <td>True</td>\n",
       "      <td>True</td>\n",
       "      <td>True</td>\n",
       "      <td>False</td>\n",
       "      <td>False</td>\n",
       "      <td>False</td>\n",
       "      <td>False</td>\n",
       "      <td>False</td>\n",
       "      <td>...</td>\n",
       "      <td>False</td>\n",
       "      <td>False</td>\n",
       "      <td>False</td>\n",
       "      <td>False</td>\n",
       "      <td>False</td>\n",
       "      <td>False</td>\n",
       "      <td>False</td>\n",
       "      <td>False</td>\n",
       "      <td>False</td>\n",
       "      <td>False</td>\n",
       "    </tr>\n",
       "    <tr>\n",
       "      <th>1</th>\n",
       "      <td>A-Bomb</td>\n",
       "      <td>False</td>\n",
       "      <td>True</td>\n",
       "      <td>True</td>\n",
       "      <td>False</td>\n",
       "      <td>True</td>\n",
       "      <td>True</td>\n",
       "      <td>True</td>\n",
       "      <td>True</td>\n",
       "      <td>True</td>\n",
       "      <td>...</td>\n",
       "      <td>False</td>\n",
       "      <td>False</td>\n",
       "      <td>False</td>\n",
       "      <td>False</td>\n",
       "      <td>False</td>\n",
       "      <td>False</td>\n",
       "      <td>False</td>\n",
       "      <td>False</td>\n",
       "      <td>False</td>\n",
       "      <td>False</td>\n",
       "    </tr>\n",
       "    <tr>\n",
       "      <th>2</th>\n",
       "      <td>Abe Sapien</td>\n",
       "      <td>True</td>\n",
       "      <td>True</td>\n",
       "      <td>True</td>\n",
       "      <td>False</td>\n",
       "      <td>True</td>\n",
       "      <td>True</td>\n",
       "      <td>True</td>\n",
       "      <td>False</td>\n",
       "      <td>False</td>\n",
       "      <td>...</td>\n",
       "      <td>False</td>\n",
       "      <td>False</td>\n",
       "      <td>False</td>\n",
       "      <td>False</td>\n",
       "      <td>False</td>\n",
       "      <td>False</td>\n",
       "      <td>False</td>\n",
       "      <td>False</td>\n",
       "      <td>False</td>\n",
       "      <td>False</td>\n",
       "    </tr>\n",
       "    <tr>\n",
       "      <th>3</th>\n",
       "      <td>Abin Sur</td>\n",
       "      <td>False</td>\n",
       "      <td>False</td>\n",
       "      <td>False</td>\n",
       "      <td>False</td>\n",
       "      <td>False</td>\n",
       "      <td>False</td>\n",
       "      <td>False</td>\n",
       "      <td>False</td>\n",
       "      <td>False</td>\n",
       "      <td>...</td>\n",
       "      <td>False</td>\n",
       "      <td>False</td>\n",
       "      <td>False</td>\n",
       "      <td>False</td>\n",
       "      <td>False</td>\n",
       "      <td>False</td>\n",
       "      <td>False</td>\n",
       "      <td>False</td>\n",
       "      <td>False</td>\n",
       "      <td>False</td>\n",
       "    </tr>\n",
       "    <tr>\n",
       "      <th>4</th>\n",
       "      <td>Abomination</td>\n",
       "      <td>False</td>\n",
       "      <td>True</td>\n",
       "      <td>True</td>\n",
       "      <td>True</td>\n",
       "      <td>True</td>\n",
       "      <td>False</td>\n",
       "      <td>False</td>\n",
       "      <td>False</td>\n",
       "      <td>False</td>\n",
       "      <td>...</td>\n",
       "      <td>False</td>\n",
       "      <td>False</td>\n",
       "      <td>False</td>\n",
       "      <td>False</td>\n",
       "      <td>False</td>\n",
       "      <td>False</td>\n",
       "      <td>False</td>\n",
       "      <td>False</td>\n",
       "      <td>False</td>\n",
       "      <td>False</td>\n",
       "    </tr>\n",
       "  </tbody>\n",
       "</table>\n",
       "<p>5 rows × 168 columns</p>\n",
       "</div>"
      ],
      "text/plain": [
       "    hero_names  Agility  Super Strength  Stamina  Super Speed  \\\n",
       "0      3-D Man     True            True     True         True   \n",
       "1       A-Bomb    False            True     True        False   \n",
       "2   Abe Sapien     True            True     True        False   \n",
       "3     Abin Sur    False           False    False        False   \n",
       "4  Abomination    False            True     True         True   \n",
       "\n",
       "   Accelerated Healing  Durability  Longevity  Camouflage  Self-Sustenance  \\\n",
       "0                False       False      False       False            False   \n",
       "1                 True        True       True        True             True   \n",
       "2                 True        True       True       False            False   \n",
       "3                False       False      False       False            False   \n",
       "4                 True       False      False       False            False   \n",
       "\n",
       "   ...  Weather Control  Omnipresent  Omniscient  Hair Manipulation  \\\n",
       "0  ...            False        False       False              False   \n",
       "1  ...            False        False       False              False   \n",
       "2  ...            False        False       False              False   \n",
       "3  ...            False        False       False              False   \n",
       "4  ...            False        False       False              False   \n",
       "\n",
       "   Nova Force  Odin Force  Phoenix Force  Intuitive aptitude  Melting  \\\n",
       "0       False       False          False               False    False   \n",
       "1       False       False          False               False    False   \n",
       "2       False       False          False               False    False   \n",
       "3       False       False          False               False    False   \n",
       "4       False       False          False               False    False   \n",
       "\n",
       "   Changing Armor  \n",
       "0           False  \n",
       "1           False  \n",
       "2           False  \n",
       "3           False  \n",
       "4           False  \n",
       "\n",
       "[5 rows x 168 columns]"
      ]
     },
     "execution_count": 17,
     "metadata": {},
     "output_type": "execute_result"
    }
   ],
   "source": [
    "df_powers=df_powers.drop(columns=['Powers','powers_split'])\n",
    "df_powers.head()"
   ]
  },
  {
   "cell_type": "code",
   "execution_count": 18,
   "id": "3643abdb",
   "metadata": {
    "scrolled": true
   },
   "outputs": [],
   "source": [
    "# Merging our data frames on hero_names\n",
    "df_merged = pd.merge(df_info, df_powers, left_on='hero_names', right_on='hero_names', how='inner')"
   ]
  },
  {
   "cell_type": "code",
   "execution_count": 19,
   "id": "2001ad7d",
   "metadata": {
    "scrolled": true
   },
   "outputs": [
    {
     "data": {
      "text/plain": [
       "Index(['Gender', 'Race', 'Alignment', 'Hair color', 'Eye color', 'Skin color',\n",
       "       'Measurements', 'Height', 'Weight', 'hero_names',\n",
       "       ...\n",
       "       'Weather Control', 'Omnipresent', 'Omniscient', 'Hair Manipulation',\n",
       "       'Nova Force', 'Odin Force', 'Phoenix Force', 'Intuitive aptitude',\n",
       "       'Melting', 'Changing Armor'],\n",
       "      dtype='object', length=178)"
      ]
     },
     "execution_count": 19,
     "metadata": {},
     "output_type": "execute_result"
    }
   ],
   "source": [
    "df_merged.columns"
   ]
  },
  {
   "cell_type": "code",
   "execution_count": 20,
   "id": "b550b10c",
   "metadata": {},
   "outputs": [],
   "source": [
    "# Creating and saving the csv for combinded or merged data frame.\n",
    "df_merged.to_csv(os.path.join(FOLDER, 'combined.csv'), index=False)"
   ]
  },
  {
   "cell_type": "code",
   "execution_count": 21,
   "id": "b0fbfe39",
   "metadata": {},
   "outputs": [],
   "source": [
    "combined_path=os.path.join(FOLDER,'combined.csv')\n",
    "combined=pd.read_csv(combined_path)"
   ]
  },
  {
   "cell_type": "code",
   "execution_count": 22,
   "id": "01ee1a4a",
   "metadata": {},
   "outputs": [
    {
     "data": {
      "text/plain": [
       "Index(['Gender', 'Race', 'Alignment', 'Hair color', 'Eye color', 'Skin color',\n",
       "       'Measurements', 'Height', 'Weight', 'hero_names',\n",
       "       ...\n",
       "       'Weather Control', 'Omnipresent', 'Omniscient', 'Hair Manipulation',\n",
       "       'Nova Force', 'Odin Force', 'Phoenix Force', 'Intuitive aptitude',\n",
       "       'Melting', 'Changing Armor'],\n",
       "      dtype='object', length=178)"
      ]
     },
     "execution_count": 22,
     "metadata": {},
     "output_type": "execute_result"
    }
   ],
   "source": [
    "combined.columns"
   ]
  },
  {
   "cell_type": "code",
   "execution_count": 23,
   "id": "8c9df9ad",
   "metadata": {},
   "outputs": [],
   "source": [
    "combined.drop_duplicates(inplace=True)"
   ]
  },
  {
   "cell_type": "code",
   "execution_count": 24,
   "id": "0ea4c401",
   "metadata": {},
   "outputs": [],
   "source": [
    "# Filters for data exploration.\n",
    "grouped_data = combined.groupby(combined['Super Speed'] == 1)['Weight'].mean()\n",
    "avg_weight_with_super_speed = grouped_data[True]\n",
    "avg_weight_without_super_speed = grouped_data[False]\n",
    "avg_height_by_publisher = df_merged.groupby('Publisher')['Height'].mean()"
   ]
  },
  {
   "cell_type": "code",
   "execution_count": 25,
   "id": "122ec576",
   "metadata": {},
   "outputs": [
    {
     "data": {
      "image/png": "[encoded data removed]",
      "text/plain": [
       "<Figure size 800x600 with 1 Axes>"
      ]
     },
     "metadata": {},
     "output_type": "display_data"
    },
    {
     "name": "stdout",
     "output_type": "stream",
     "text": [
      "Average weight of superheros with Super Speed: 189.44444444444446\n",
      "Average weight of superheros without Super Speed: 186.37622641509432\n"
     ]
    }
   ],
   "source": [
    "plt.figure(figsize=(8, 6))\n",
    "sns.barplot(x=['With Super Speed', 'Without Super Speed'], y=[avg_weight_with_super_speed, avg_weight_without_super_speed])\n",
    "plt.title('Average Weight of superheros with and without Super Speed')\n",
    "plt.xlabel('Super Speed')\n",
    "plt.ylabel('Average Weight')\n",
    "plt.show()\n",
    "\n",
    "print(\"Average weight of superheros with Super Speed:\", avg_weight_with_super_speed)\n",
    "print(\"Average weight of superheros without Super Speed:\", avg_weight_without_super_speed)"
   ]
  },
  {
   "cell_type": "code",
   "execution_count": 26,
   "id": "cfa4d1fc",
   "metadata": {
    "scrolled": true
   },
   "outputs": [
    {
     "data": {
      "image/png": "[encoded data removed]",
      "text/plain": [
       "<Figure size 1000x600 with 1 Axes>"
      ]
     },
     "metadata": {},
     "output_type": "display_data"
    },
    {
     "name": "stdout",
     "output_type": "stream",
     "text": [
      "Average height of superheroes by publisher:\n",
      " Publisher\n",
      "DC Comics            181.923913\n",
      "Dark Horse Comics    176.909091\n",
      "George Lucas         159.600000\n",
      "Image Comics         211.000000\n",
      "Marvel Comics        191.546128\n",
      "Shueisha             171.500000\n",
      "Star Trek            181.500000\n",
      "Team Epic TV         180.750000\n",
      "Unknown              178.000000\n",
      "Name: Height, dtype: float64\n"
     ]
    }
   ],
   "source": [
    "plt.figure(figsize=(10, 6))\n",
    "sns.barplot(x=avg_height_by_publisher.index, y=avg_height_by_publisher.values)\n",
    "plt.title('Average Height of superheroes by Publisher')\n",
    "plt.xlabel('Publisher')\n",
    "plt.ylabel('Average Height')\n",
    "plt.xticks(rotation=45)\n",
    "plt.show()\n",
    "print(\"Average height of superheroes by publisher:\\n\", avg_height_by_publisher)"
   ]
  }
 ],
 "metadata": {
  "kernelspec": {
   "display_name": "Python (dojo-env)",
   "language": "python",
   "name": "dojo-env"
  },
  "language_info": {
   "codemirror_mode": {
    "name": "ipython",
    "version": 3
   },
   "file_extension": ".py",
   "mimetype": "text/x-python",
   "name": "python",
   "nbconvert_exporter": "python",
   "pygments_lexer": "ipython3",
   "version": "3.9.15"
  },
  "toc": {
   "base_numbering": 1,
   "nav_menu": {},
   "number_sections": true,
   "sideBar": true,
   "skip_h1_title": false,
   "title_cell": "Table of Contents",
   "title_sidebar": "Contents",
   "toc_cell": false,
   "toc_position": {},
   "toc_section_display": true,
   "toc_window_display": false
  }
 },
 "nbformat": 4,
 "nbformat_minor": 5
}
