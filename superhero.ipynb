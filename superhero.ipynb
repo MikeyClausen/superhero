{
 "cells": [
  {
   "cell_type": "code",
   "execution_count": 1,
   "id": "ae206eab",
   "metadata": {},
   "outputs": [],
   "source": [
    "#Imports\n",
    "import os\n",
    "os.environ[\"OMP_NUM_THREADS\"] = '1'\n",
    "import pandas as pd\n",
    "import numpy as np\n",
    "import seaborn as sns\n",
    "import matplotlib.pyplot as plt\n",
    "from sklearn.preprocessing import OneHotEncoder"
   ]
  },
  {
   "cell_type": "code",
   "execution_count": 2,
   "id": "d4025172",
   "metadata": {},
   "outputs": [
    {
     "data": {
      "text/plain": [
       "['combined.csv']"
      ]
     },
     "execution_count": 2,
     "metadata": {},
     "output_type": "execute_result"
    }
   ],
   "source": [
    "FOLDER = \"Data/\"\n",
    "os.makedirs(FOLDER, exist_ok=True)\n",
    "os.listdir(FOLDER)"
   ]
  },
  {
   "cell_type": "code",
   "execution_count": 3,
   "id": "bc1b0acc",
   "metadata": {},
   "outputs": [],
   "source": [
    "csv=(\n",
    "    'C:/Users/Mikey/Documents/GitHub/dojo-env-setup/superhero/Data/superhero_info - superhero_info.csv',\n",
    "    'C:/Users/Mikey/Documents/GitHub/dojo-env-setup/superhero/Data/superhero_powers - superhero_powers.csv')"
   ]
  },
  {
   "cell_type": "code",
   "execution_count": 4,
   "id": "1f691350",
   "metadata": {},
   "outputs": [],
   "source": [
    "df_info=pd.read_csv(os.path.join(FOLDER, csv[0]))\n",
    "df_powers=pd.read_csv(os.path.join(FOLDER, csv[1]))"
   ]
  },
  {
   "cell_type": "code",
   "execution_count": 5,
   "id": "5e4b8e04",
   "metadata": {},
   "outputs": [
    {
     "name": "stdout",
     "output_type": "stream",
     "text": [
      " info columns :Index(['Hero|Publisher', 'Gender', 'Race', 'Alignment', 'Hair color',\n",
      "       'Eye color', 'Skin color', 'Measurements'],\n",
      "      dtype='object')\n"
     ]
    }
   ],
   "source": [
    "print(f' info columns :{df_info.columns}')"
   ]
  },
  {
   "cell_type": "code",
   "execution_count": 6,
   "id": "14b13f9a",
   "metadata": {},
   "outputs": [
    {
     "name": "stdout",
     "output_type": "stream",
     "text": [
      " power columns :Index(['hero_names', 'Powers'], dtype='object')\n"
     ]
    }
   ],
   "source": [
    "print(f' power columns :{df_powers.columns}')"
   ]
  },
  {
   "cell_type": "code",
   "execution_count": 7,
   "id": "f1b7110e",
   "metadata": {},
   "outputs": [],
   "source": [
    "df_info.columns=df_info.columns.str.strip()\n",
    "df_powers.columns=df_powers.columns.str.strip()"
   ]
  },
  {
   "cell_type": "code",
   "execution_count": 8,
   "id": "5b42769e",
   "metadata": {},
   "outputs": [],
   "source": [
    "# Extract the numeric values from the \"Measurements\" column using regular expressions\n",
    "pattern = r\"(\\d+\\.\\d+)\"\n",
    "df_info['Height'] = df_info['Measurements'].str.extract(pattern, expand=False).astype(float)\n",
    "# Remove the \"kg\" and convert the \"Weight\" column to numeric\n",
    "df_info['Weight'] = df_info['Measurements'].str.replace('kg', '').str.extract(pattern, expand=False).astype(float)"
   ]
  },
  {
   "cell_type": "code",
   "execution_count": 9,
   "id": "3643abdb",
   "metadata": {},
   "outputs": [],
   "source": [
    "df_merged = pd.merge(df_info, df_powers, left_on='Hero|Publisher', right_on='hero_names', how='inner')"
   ]
  },
  {
   "cell_type": "code",
   "execution_count": 10,
   "id": "2001ad7d",
   "metadata": {},
   "outputs": [
    {
     "data": {
      "text/plain": [
       "Index(['Hero|Publisher', 'Gender', 'Race', 'Alignment', 'Hair color',\n",
       "       'Eye color', 'Skin color', 'Measurements', 'Height', 'Weight',\n",
       "       'hero_names', 'Powers'],\n",
       "      dtype='object')"
      ]
     },
     "execution_count": 10,
     "metadata": {},
     "output_type": "execute_result"
    }
   ],
   "source": [
    "df_merged.columns"
   ]
  },
  {
   "cell_type": "code",
   "execution_count": 11,
   "id": "f5db3819",
   "metadata": {},
   "outputs": [],
   "source": [
    "columns_to_keep = [\n",
    "    'Hero|Publisher',\n",
    "    'Gender',\n",
    "    'Eye color',\n",
    "    'Race',\n",
    "    'Hair color',\n",
    "    'Measurements',\n",
    "    'Skin color',\n",
    "    'Alignment'\n",
    "]"
   ]
  },
  {
   "cell_type": "code",
   "execution_count": 12,
   "id": "f6b116fe",
   "metadata": {},
   "outputs": [],
   "source": [
    "# Split the powers column by ',' and apply one-hot encoding\n",
    "powers = df_merged['Powers'].str.get_dummies(sep=',')\n",
    "\n",
    "# Concatenate the powers DataFrame with the original DataFrame\n",
    "df_merged = pd.concat([df_merged, powers], axis=1)\n",
    "\n",
    "# Drop the original 'Powers' column\n",
    "df_merged.drop('Powers', axis=1, inplace=True)"
   ]
  },
  {
   "cell_type": "code",
   "execution_count": 13,
   "id": "519ab444",
   "metadata": {},
   "outputs": [
    {
     "data": {
      "text/plain": [
       "Index(['Hero|Publisher', 'Gender', 'Race', 'Alignment', 'Hair color',\n",
       "       'Eye color', 'Skin color', 'Measurements', 'Height', 'Weight',\n",
       "       'hero_names'],\n",
       "      dtype='object')"
      ]
     },
     "execution_count": 13,
     "metadata": {},
     "output_type": "execute_result"
    }
   ],
   "source": [
    "df_merged.columns"
   ]
  },
  {
   "cell_type": "code",
   "execution_count": 14,
   "id": "b550b10c",
   "metadata": {},
   "outputs": [],
   "source": [
    "df_merged.to_csv(os.path.join(FOLDER, 'combined.csv'), index=False)"
   ]
  },
  {
   "cell_type": "code",
   "execution_count": 15,
   "id": "b0fbfe39",
   "metadata": {},
   "outputs": [],
   "source": [
    "combined_path=os.path.join(FOLDER,'combined.csv')\n",
    "combined=pd.read_csv(combined_path)"
   ]
  },
  {
   "cell_type": "code",
   "execution_count": 16,
   "id": "01ee1a4a",
   "metadata": {},
   "outputs": [
    {
     "data": {
      "text/plain": [
       "Index(['Hero|Publisher', 'Gender', 'Race', 'Alignment', 'Hair color',\n",
       "       'Eye color', 'Skin color', 'Measurements', 'Height', 'Weight',\n",
       "       'hero_names'],\n",
       "      dtype='object')"
      ]
     },
     "execution_count": 16,
     "metadata": {},
     "output_type": "execute_result"
    }
   ],
   "source": [
    "combined.columns"
   ]
  },
  {
   "cell_type": "code",
   "execution_count": 17,
   "id": "0ea4c401",
   "metadata": {},
   "outputs": [
    {
     "ename": "KeyError",
     "evalue": "'Super Speed'",
     "output_type": "error",
     "traceback": [
      "\u001b[1;31m---------------------------------------------------------------------------\u001b[0m",
      "\u001b[1;31mKeyError\u001b[0m                                  Traceback (most recent call last)",
      "File \u001b[1;32m~\\anaconda3\\envs\\dojo-env\\lib\\site-packages\\pandas\\core\\indexes\\base.py:3803\u001b[0m, in \u001b[0;36mIndex.get_loc\u001b[1;34m(self, key, method, tolerance)\u001b[0m\n\u001b[0;32m   3802\u001b[0m \u001b[38;5;28;01mtry\u001b[39;00m:\n\u001b[1;32m-> 3803\u001b[0m     \u001b[38;5;28;01mreturn\u001b[39;00m \u001b[38;5;28;43mself\u001b[39;49m\u001b[38;5;241;43m.\u001b[39;49m\u001b[43m_engine\u001b[49m\u001b[38;5;241;43m.\u001b[39;49m\u001b[43mget_loc\u001b[49m\u001b[43m(\u001b[49m\u001b[43mcasted_key\u001b[49m\u001b[43m)\u001b[49m\n\u001b[0;32m   3804\u001b[0m \u001b[38;5;28;01mexcept\u001b[39;00m \u001b[38;5;167;01mKeyError\u001b[39;00m \u001b[38;5;28;01mas\u001b[39;00m err:\n",
      "File \u001b[1;32m~\\anaconda3\\envs\\dojo-env\\lib\\site-packages\\pandas\\_libs\\index.pyx:138\u001b[0m, in \u001b[0;36mpandas._libs.index.IndexEngine.get_loc\u001b[1;34m()\u001b[0m\n",
      "File \u001b[1;32m~\\anaconda3\\envs\\dojo-env\\lib\\site-packages\\pandas\\_libs\\index.pyx:165\u001b[0m, in \u001b[0;36mpandas._libs.index.IndexEngine.get_loc\u001b[1;34m()\u001b[0m\n",
      "File \u001b[1;32mpandas\\_libs\\hashtable_class_helper.pxi:5745\u001b[0m, in \u001b[0;36mpandas._libs.hashtable.PyObjectHashTable.get_item\u001b[1;34m()\u001b[0m\n",
      "File \u001b[1;32mpandas\\_libs\\hashtable_class_helper.pxi:5753\u001b[0m, in \u001b[0;36mpandas._libs.hashtable.PyObjectHashTable.get_item\u001b[1;34m()\u001b[0m\n",
      "\u001b[1;31mKeyError\u001b[0m: 'Super Speed'",
      "\nThe above exception was the direct cause of the following exception:\n",
      "\u001b[1;31mKeyError\u001b[0m                                  Traceback (most recent call last)",
      "Cell \u001b[1;32mIn [17], line 1\u001b[0m\n\u001b[1;32m----> 1\u001b[0m avg_weight_with_super_speed \u001b[38;5;241m=\u001b[39m combined\u001b[38;5;241m.\u001b[39mloc[\u001b[43mcombined\u001b[49m\u001b[43m[\u001b[49m\u001b[38;5;124;43m'\u001b[39;49m\u001b[38;5;124;43mSuper Speed\u001b[39;49m\u001b[38;5;124;43m'\u001b[39;49m\u001b[43m]\u001b[49m \u001b[38;5;241m==\u001b[39m \u001b[38;5;241m1\u001b[39m, \u001b[38;5;124m'\u001b[39m\u001b[38;5;124mWeight\u001b[39m\u001b[38;5;124m'\u001b[39m]\u001b[38;5;241m.\u001b[39mmean()\n\u001b[0;32m      2\u001b[0m avg_weight_without_super_speed \u001b[38;5;241m=\u001b[39m combined\u001b[38;5;241m.\u001b[39mloc[combined[\u001b[38;5;124m'\u001b[39m\u001b[38;5;124mSuper Speed\u001b[39m\u001b[38;5;124m'\u001b[39m] \u001b[38;5;241m==\u001b[39m \u001b[38;5;241m0\u001b[39m, \u001b[38;5;124m'\u001b[39m\u001b[38;5;124mWeight\u001b[39m\u001b[38;5;124m'\u001b[39m]\u001b[38;5;241m.\u001b[39mmean()\n",
      "File \u001b[1;32m~\\anaconda3\\envs\\dojo-env\\lib\\site-packages\\pandas\\core\\frame.py:3805\u001b[0m, in \u001b[0;36mDataFrame.__getitem__\u001b[1;34m(self, key)\u001b[0m\n\u001b[0;32m   3803\u001b[0m \u001b[38;5;28;01mif\u001b[39;00m \u001b[38;5;28mself\u001b[39m\u001b[38;5;241m.\u001b[39mcolumns\u001b[38;5;241m.\u001b[39mnlevels \u001b[38;5;241m>\u001b[39m \u001b[38;5;241m1\u001b[39m:\n\u001b[0;32m   3804\u001b[0m     \u001b[38;5;28;01mreturn\u001b[39;00m \u001b[38;5;28mself\u001b[39m\u001b[38;5;241m.\u001b[39m_getitem_multilevel(key)\n\u001b[1;32m-> 3805\u001b[0m indexer \u001b[38;5;241m=\u001b[39m \u001b[38;5;28;43mself\u001b[39;49m\u001b[38;5;241;43m.\u001b[39;49m\u001b[43mcolumns\u001b[49m\u001b[38;5;241;43m.\u001b[39;49m\u001b[43mget_loc\u001b[49m\u001b[43m(\u001b[49m\u001b[43mkey\u001b[49m\u001b[43m)\u001b[49m\n\u001b[0;32m   3806\u001b[0m \u001b[38;5;28;01mif\u001b[39;00m is_integer(indexer):\n\u001b[0;32m   3807\u001b[0m     indexer \u001b[38;5;241m=\u001b[39m [indexer]\n",
      "File \u001b[1;32m~\\anaconda3\\envs\\dojo-env\\lib\\site-packages\\pandas\\core\\indexes\\base.py:3805\u001b[0m, in \u001b[0;36mIndex.get_loc\u001b[1;34m(self, key, method, tolerance)\u001b[0m\n\u001b[0;32m   3803\u001b[0m     \u001b[38;5;28;01mreturn\u001b[39;00m \u001b[38;5;28mself\u001b[39m\u001b[38;5;241m.\u001b[39m_engine\u001b[38;5;241m.\u001b[39mget_loc(casted_key)\n\u001b[0;32m   3804\u001b[0m \u001b[38;5;28;01mexcept\u001b[39;00m \u001b[38;5;167;01mKeyError\u001b[39;00m \u001b[38;5;28;01mas\u001b[39;00m err:\n\u001b[1;32m-> 3805\u001b[0m     \u001b[38;5;28;01mraise\u001b[39;00m \u001b[38;5;167;01mKeyError\u001b[39;00m(key) \u001b[38;5;28;01mfrom\u001b[39;00m \u001b[38;5;21;01merr\u001b[39;00m\n\u001b[0;32m   3806\u001b[0m \u001b[38;5;28;01mexcept\u001b[39;00m \u001b[38;5;167;01mTypeError\u001b[39;00m:\n\u001b[0;32m   3807\u001b[0m     \u001b[38;5;66;03m# If we have a listlike key, _check_indexing_error will raise\u001b[39;00m\n\u001b[0;32m   3808\u001b[0m     \u001b[38;5;66;03m#  InvalidIndexError. Otherwise we fall through and re-raise\u001b[39;00m\n\u001b[0;32m   3809\u001b[0m     \u001b[38;5;66;03m#  the TypeError.\u001b[39;00m\n\u001b[0;32m   3810\u001b[0m     \u001b[38;5;28mself\u001b[39m\u001b[38;5;241m.\u001b[39m_check_indexing_error(key)\n",
      "\u001b[1;31mKeyError\u001b[0m: 'Super Speed'"
     ]
    }
   ],
   "source": [
    "avg_weight_with_super_speed = combined.loc[combined['Super Speed'] == 1, 'Weight'].mean()\n",
    "avg_weight_without_super_speed = combined.loc[combined['Super Speed'] == 0, 'Weight'].mean()"
   ]
  }
 ],
 "metadata": {
  "kernelspec": {
   "display_name": "Python (dojo-env)",
   "language": "python",
   "name": "dojo-env"
  },
  "language_info": {
   "codemirror_mode": {
    "name": "ipython",
    "version": 3
   },
   "file_extension": ".py",
   "mimetype": "text/x-python",
   "name": "python",
   "nbconvert_exporter": "python",
   "pygments_lexer": "ipython3",
   "version": "3.9.15"
  },
  "toc": {
   "base_numbering": 1,
   "nav_menu": {},
   "number_sections": true,
   "sideBar": true,
   "skip_h1_title": false,
   "title_cell": "Table of Contents",
   "title_sidebar": "Contents",
   "toc_cell": false,
   "toc_position": {},
   "toc_section_display": true,
   "toc_window_display": false
  }
 },
 "nbformat": 4,
 "nbformat_minor": 5
}
